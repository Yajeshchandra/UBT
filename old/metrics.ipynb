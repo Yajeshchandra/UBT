{
 "cells": [
  {
   "cell_type": "code",
   "execution_count": 2,
   "id": "3e3a1e9a-3c30-44d4-878d-1688b456ec0e",
   "metadata": {},
   "outputs": [],
   "source": [
    "import torch\n",
    "import torch.nn as nn\n",
    "import torch.optim as optim\n",
    "import torchvision\n",
    "import torchvision.transforms as transforms\n",
    "from torch.utils.data import Dataset, DataLoader, random_split, Subset\n",
    "import os\n",
    "from PIL import Image\n",
    "import torch.nn.functional as F\n",
    "import matplotlib.pyplot as plt\n",
    "from sklearn.manifold import TSNE\n",
    "import numpy as np\n",
    "from tqdm import tqdm\n",
    "import time\n",
    "from pathlib import Path\n",
    "\n",
    "\n",
    "def load_image(image_path, transform):\n",
    "    img = Image.open(image_path).convert('L')\n",
    "    return transform(img)\n",
    "\n",
    "def create_embedding_dicts(data_root, model, device='mps'):\n",
    "    transform = transforms.Compose([\n",
    "        transforms.Resize((128, 128)),\n",
    "        transforms.ToTensor(),\n",
    "        transforms.Normalize(mean=[0.5], std=[0.5])\n",
    "    ])\n",
    "\n",
    "    modalities = ['periocular', 'forehead', 'iris']\n",
    "    splits = ['test']\n",
    "    train_dict = {}\n",
    "    test_dict = {}\n",
    "\n",
    "    model = model.to(device)\n",
    "    model.eval()\n",
    "\n",
    "    for split in splits:\n",
    "        print(\"Doing: \", split)\n",
    "        target_dict = train_dict if split == 'train' else test_dict\n",
    "        # Get person IDs from directory\n",
    "        person_ids = [f\"{i:03d}\" for i in range(1, 248)]\n",
    "        for person_id in person_ids:\n",
    "            print(\"Person \", person_id)\n",
    "            target_dict[person_id] = []  # List to store 10 embeddings\n",
    "            # Iterate over poses (1 to 10)\n",
    "            for pose_idx in range(1, 11):\n",
    "                # Load images for all three modalities for this person and pose\n",
    "                images = []\n",
    "                for modality in modalities:\n",
    "                    img_path = Path(data_root) / modality / split / person_id\n",
    "                    pose_images = [f for f in sorted(os.listdir(img_path)) if f!='.DS_Store']\n",
    "                    if len(pose_images) < pose_idx:\n",
    "                        print(f\"Warning: {img_path} has only {len(pose_images)} poses, expected at least {pose_idx}\")\n",
    "                        break\n",
    "                    img_name = pose_images[pose_idx - 1]  # Select the pose_idx-th image\n",
    "                    img_path = img_path / img_name\n",
    "                    if not img_path.exists():\n",
    "                        print(f\"Warning: {img_path} does not exist\")\n",
    "                        break\n",
    "                    img = load_image(img_path, transform).to(device)\n",
    "                    images.append(img)\n",
    "                else:  # Only execute if all images are found\n",
    "                    # Pass three images to the model\n",
    "                    with torch.no_grad():\n",
    "                        embedding = model(\n",
    "                            images[0].unsqueeze(0),  # periocular (add batch dim)\n",
    "                            images[1].unsqueeze(0),  # forehead\n",
    "                            images[2].unsqueeze(0)   # iris\n",
    "                        )['joint'].squeeze(0).cpu()  # Remove batch dim\n",
    "                    target_dict[person_id].append(embedding)\n",
    "                if len(images) != 3:  # Skip if any image was missing\n",
    "                    continue\n",
    "\n",
    "    return train_dict, test_dict"
   ]
  },
  {
   "cell_type": "code",
   "execution_count": 5,
   "id": "b2bbdbed-be7d-4772-8763-d253efb57cdc",
   "metadata": {},
   "outputs": [
    {
     "name": "stderr",
     "output_type": "stream",
     "text": [
      "2025-05-17 02:38:57.375466: I tensorflow/core/platform/cpu_feature_guard.cc:210] This TensorFlow binary is optimized to use available CPU instructions in performance-critical operations.\n",
      "To enable the following instructions: AVX2 FMA, in other operations, rebuild TensorFlow with the appropriate compiler flags.\n",
      "2025-05-17 02:38:58.080147: W tensorflow/compiler/tf2tensorrt/utils/py_utils.cc:38] TF-TRT Warning: Could not find TensorRT\n"
     ]
    },
    {
     "name": "stdout",
     "output_type": "stream",
     "text": [
      "14.0576 14.0576\n"
     ]
    }
   ],
   "source": [
    "data_root = './dataset2'\n",
    "\n",
    "device = torch.device('cuda' if torch.cuda.is_available() else 'mps')\n",
    "\n",
    "# from cvpr.MFA_ViT import MFA_ViT\n",
    "# model = MFA_ViT(\n",
    "#     img_size=128,           # Match the image size in your transform\n",
    "#     patch_size=8,           # Standard patch size\n",
    "#     in_chans=1,             # 1 channel for grayscale images\n",
    "#     embed_dim=64,         # Embedding dimension\n",
    "#     layer_depth=4,          # Standard transformer depth\n",
    "#     num_heads=8,            # Number of attention heads\n",
    "#     prompt_mode=\"deep\",     # Using deep prompts\n",
    "#     prompt_tokens=32,       # Number of prompt tokens\n",
    "#     embedding_size=128      # Final embedding dimension for InfoNCE\n",
    "# ).to(device)\n",
    "\n",
    "# state_dict = torch.load('./cvpr/best_model.pt')\n",
    "# model.load_state_dict(state_dict)\n",
    "# model.eval()\n",
    "\n",
    "from cnn_transformer.model_mpt import BiometricModel\n",
    "model = BiometricModel(embedding_dim=256)\n",
    "state_dict = torch.load('./cnn_transformer/model_latest_mpt_best.pt')\n",
    "model.load_state_dict(state_dict)\n",
    "model.eval()\n",
    "\n",
    "\n",
    "total_params = sum(p.numel() for p in model.parameters())\n",
    "trainable_params = sum(p.numel() for p in model.parameters() if p.requires_grad)\n",
    "\n",
    "print(total_params/1e6, trainable_params/1e6)\n",
    "\n",
    "# train_dict, test_dict = create_embedding_dicts(data_root, model, device)"
   ]
  },
  {
   "cell_type": "code",
   "execution_count": 9,
   "id": "ff6f6783-f26d-425d-b22b-a507287e53d8",
   "metadata": {},
   "outputs": [
    {
     "name": "stdout",
     "output_type": "stream",
     "text": [
      "Evaluating rank-k recognition performance...\n",
      "Skipping person 052 with only 8 embeddings\n",
      "Skipping person 212 with only 4 embeddings\n",
      "Gallery size: 1960 embeddings\n",
      "Probe size: 488 embeddings\n"
     ]
    },
    {
     "name": "stderr",
     "output_type": "stream",
     "text": [
      "100%|██████████████████████████████████████████████████████████████| 5/5 [00:00<00:00, 882.75it/s]\n"
     ]
    },
    {
     "name": "stdout",
     "output_type": "stream",
     "text": [
      "Rank-1 recognition rate with gallery size 8: 0.7807 (78.07%) 381/488\n",
      "Skipping person 052 with only 8 embeddings\n",
      "Skipping person 212 with only 4 embeddings\n",
      "Gallery size: 1960 embeddings\n",
      "Probe size: 488 embeddings\n"
     ]
    },
    {
     "name": "stderr",
     "output_type": "stream",
     "text": [
      "100%|██████████████████████████████████████████████████████████████| 5/5 [00:00<00:00, 558.09it/s]\n"
     ]
    },
    {
     "name": "stdout",
     "output_type": "stream",
     "text": [
      "Rank-2 recognition rate with gallery size 8: 0.8607 (86.07%) 420/488\n",
      "Skipping person 052 with only 8 embeddings\n",
      "Skipping person 212 with only 4 embeddings\n",
      "Gallery size: 1960 embeddings\n",
      "Probe size: 488 embeddings\n"
     ]
    },
    {
     "name": "stderr",
     "output_type": "stream",
     "text": [
      "100%|██████████████████████████████████████████████████████████████| 5/5 [00:00<00:00, 269.35it/s]"
     ]
    },
    {
     "name": "stdout",
     "output_type": "stream",
     "text": [
      "Rank-5 recognition rate with gallery size 8: 0.9201 (92.01%) 449/488\n"
     ]
    },
    {
     "name": "stderr",
     "output_type": "stream",
     "text": [
      "\n"
     ]
    }
   ],
   "source": [
    "def evaluate_rank_k(test_dict, gallery_size=5, k=1, device='cuda'):\n",
    "    \"\"\"\n",
    "    Evaluate rank-k recognition accuracy using cosine similarity.\n",
    "    \n",
    "    Args:\n",
    "        test_dict: Dictionary with person IDs as keys and lists of embeddings as values\n",
    "        gallery_size: Number of poses to use as gallery (remaining used as probe)\n",
    "        k: The rank-k accuracy to compute (e.g., k=1 for rank-1, k=5 for rank-5)\n",
    "        device: Device to perform calculations on\n",
    "    \n",
    "    Returns:\n",
    "        Rank-k recognition rate\n",
    "    \"\"\"\n",
    "    correct = 0\n",
    "    total = 0\n",
    "    \n",
    "    # Convert embeddings to tensors and prepare gallery and probe sets\n",
    "    gallery_embeddings = []\n",
    "    gallery_labels = []\n",
    "    probe_embeddings = []\n",
    "    probe_labels = []\n",
    "    \n",
    "    for person_id, embeddings in test_dict.items():\n",
    "        if len(embeddings) < gallery_size + 1:\n",
    "            print(f\"Skipping person {person_id} with only {len(embeddings)} embeddings\")\n",
    "            continue\n",
    "            \n",
    "        # Use first gallery_size embeddings as gallery\n",
    "        for i in range(gallery_size):\n",
    "            gallery_embeddings.append(embeddings[i])\n",
    "            gallery_labels.append(person_id)\n",
    "            \n",
    "        # Use remaining embeddings as probe\n",
    "        for i in range(gallery_size, len(embeddings)):\n",
    "            probe_embeddings.append(embeddings[i])\n",
    "            probe_labels.append(person_id)\n",
    "    \n",
    "    gallery_tensor = torch.stack(gallery_embeddings).to(device)\n",
    "    probe_tensor = torch.stack(probe_embeddings).to(device)\n",
    "    \n",
    "    # Normalize embeddings for cosine similarity\n",
    "    gallery_tensor = F.normalize(gallery_tensor, p=2, dim=1)\n",
    "    probe_tensor = F.normalize(probe_tensor, p=2, dim=1)\n",
    "    \n",
    "    print(f\"Gallery size: {len(gallery_tensor)} embeddings\")\n",
    "    print(f\"Probe size: {len(probe_tensor)} embeddings\")\n",
    "    \n",
    "    # Calculate similarities in batches to avoid OOM\n",
    "    batch_size = 100\n",
    "    correct = 0\n",
    "    total = len(probe_tensor)\n",
    "    \n",
    "    with torch.no_grad():\n",
    "        for i in tqdm(range(0, len(probe_tensor), batch_size)):\n",
    "            batch_end = min(i + batch_size, len(probe_tensor))\n",
    "            batch_probe = probe_tensor[i:batch_end]\n",
    "            \n",
    "            # Calculate cosine similarity between probe and gallery\n",
    "            similarities = torch.mm(batch_probe, gallery_tensor.t())\n",
    "            \n",
    "            # Get the indices of top-k highest similarities\n",
    "            _, indices = torch.topk(similarities, k=k, dim=1)\n",
    "            \n",
    "            # Check if the correct match is in top-k predictions\n",
    "            for j in range(len(batch_probe)):\n",
    "                probe_person = probe_labels[i + j]\n",
    "                predicted_persons = [gallery_labels[idx.item()] for idx in indices[j]]\n",
    "                \n",
    "                if probe_person in predicted_persons:\n",
    "                    correct += 1\n",
    "    \n",
    "    # Calculate rank-k recognition rate\n",
    "    rank_k_rate = correct / total if total > 0 else 0\n",
    "    return rank_k_rate, correct, total\n",
    "\n",
    "# Add this code after loading the model and creating embeddings\n",
    "print(\"Evaluating rank-k recognition performance...\")\n",
    "\n",
    "# Test with different gallery sizes and ranks\n",
    "gallery_sizes = [8]\n",
    "ranks = [1, 2, 5]\n",
    "\n",
    "for gallery_size in gallery_sizes:\n",
    "    for k in ranks:\n",
    "        rank_k_rate, c, t = evaluate_rank_k(test_dict, gallery_size=gallery_size, k=k, device=device)\n",
    "        print(f\"Rank-{k} recognition rate with gallery size {gallery_size}: {rank_k_rate:.4f} ({rank_k_rate*100:.2f}%) {c}/{t}\")\n"
   ]
  },
  {
   "cell_type": "code",
   "execution_count": 16,
   "id": "e5616bc8-3f82-46f5-8b82-c8992d073412",
   "metadata": {
    "scrolled": true
   },
   "outputs": [
    {
     "name": "stdout",
     "output_type": "stream",
     "text": [
      "Calculating distances...\n",
      "Processing 247 identities...\n"
     ]
    },
    {
     "name": "stderr",
     "output_type": "stream",
     "text": [
      "100%|███████████████████████████████████████████████████████████| 247/247 [00:12<00:00, 19.20it/s]\n"
     ]
    },
    {
     "name": "stdout",
     "output_type": "stream",
     "text": [
      "\n",
      "Distance Statistics:\n",
      "Genuine pairs: 11041\n",
      "Genuine distance - Mean: 0.3348, Std: 0.1330\n",
      "Impostor pairs: 3013529\n",
      "Impostor distance - Mean: 0.8061, Std: 0.1736\n",
      "Calculating EER...\n",
      "Equal Error Rate (EER): 0.0753\n",
      "EER Threshold: 0.5466\n",
      "At threshold 0.50:\n",
      "  TPR: 0.8799\n",
      "  FPR: 0.0450\n"
     ]
    }
   ],
   "source": [
    "\n",
    "def calculate_distances(test_dict):\n",
    "    \"\"\"Calculate genuine and impostor distances.\"\"\"\n",
    "    genuine_distances = []\n",
    "    impostor_distances = []\n",
    "    \n",
    "    person_ids = list(test_dict.keys())\n",
    "    print(f\"Processing {len(person_ids)} identities...\")\n",
    "    \n",
    "    for i, person1 in tqdm(enumerate(person_ids), total=len(person_ids)):\n",
    "        embeddings1 = test_dict[person1]\n",
    "        # Normalize embeddings\n",
    "        embeddings1 = [F.normalize(emb, p=2, dim=0) for emb in embeddings1]\n",
    "        \n",
    "        # Calculate genuine distances (same person, different poses)\n",
    "        num_embeddings = len(embeddings1)\n",
    "        for j in range(num_embeddings):\n",
    "            for k in range(j + 1, num_embeddings):\n",
    "                dist = torch.dist(embeddings1[j], embeddings1[k]).item()\n",
    "                genuine_distances.append(dist)\n",
    "        \n",
    "        # Calculate impostor distances (different persons)\n",
    "        for person2 in person_ids[i + 1:]:\n",
    "            embeddings2 = test_dict[person2]\n",
    "            embeddings2 = [F.normalize(emb, p=2, dim=0) for emb in embeddings2]\n",
    "            for emb1 in embeddings1:\n",
    "                for emb2 in embeddings2:\n",
    "                    dist = torch.dist(emb1, emb2).item()\n",
    "                    impostor_distances.append(dist)\n",
    "    \n",
    "    genuine_distances = np.array(genuine_distances)\n",
    "    impostor_distances = np.array(impostor_distances)\n",
    "    \n",
    "    print(f\"\\nDistance Statistics:\")\n",
    "    print(f\"Genuine pairs: {len(genuine_distances)}\")\n",
    "    print(f\"Genuine distance - Mean: {genuine_distances.mean():.4f}, Std: {genuine_distances.std():.4f}\")\n",
    "    print(f\"Impostor pairs: {len(impostor_distances)}\")\n",
    "    print(f\"Impostor distance - Mean: {impostor_distances.mean():.4f}, Std: {impostor_distances.std():.4f}\")\n",
    "    \n",
    "    return genuine_distances, impostor_distances\n",
    "\n",
    "def calculate_tpr_fpr(genuine_distances, impostor_distances, threshold):\n",
    "    \"\"\"Calculate TPR and FPR at a given threshold.\"\"\"\n",
    "    # True Positive = Genuine pairs correctly classified as genuine (distance <= threshold)\n",
    "    # False Positive = Impostor pairs incorrectly classified as genuine (distance <= threshold)\n",
    "    tp = np.sum(genuine_distances <= threshold)\n",
    "    fp = np.sum(impostor_distances <= threshold)\n",
    "    \n",
    "    # Total genuine pairs = P (Positive)\n",
    "    # Total impostor pairs = N (Negative)\n",
    "    P = len(genuine_distances)\n",
    "    N = len(impostor_distances)\n",
    "    \n",
    "    tpr = tp / P if P > 0 else 0  # TPR = TP/P\n",
    "    fpr = fp / N if N > 0 else 0  # FPR = FP/N\n",
    "    \n",
    "    return tpr, fpr\n",
    "\n",
    "def calculate_eer(genuine_distances, impostor_distances):\n",
    "    \"\"\"Calculate the Equal Error Rate.\"\"\"\n",
    "    # Use more thresholds for better precision\n",
    "    min_dist = min(genuine_distances.min(), impostor_distances.min())\n",
    "    max_dist = max(genuine_distances.max(), impostor_distances.max())\n",
    "    thresholds = np.linspace(min_dist, max_dist, 1000)\n",
    "    \n",
    "    best_eer = float('inf')\n",
    "    best_threshold = None\n",
    "    \n",
    "    for threshold in thresholds:\n",
    "        tpr, fpr = calculate_tpr_fpr(genuine_distances, impostor_distances, threshold)\n",
    "        far = fpr\n",
    "        frr = 1 - tpr\n",
    "        \n",
    "        # EER is the point where FAR = FRR\n",
    "        if abs(far - frr) < best_eer:\n",
    "            best_eer = abs(far - frr)\n",
    "            best_threshold = threshold\n",
    "            if abs(far - frr) < 1e-7:  # Found exact match\n",
    "                break\n",
    "    \n",
    "    final_tpr, final_fpr = calculate_tpr_fpr(genuine_distances, impostor_distances, best_threshold)\n",
    "    eer = (1 - final_tpr + final_fpr) / 2\n",
    "    \n",
    "    return eer, best_threshold\n",
    "\n",
    "\n",
    "# Evaluate the model\n",
    "print(\"Calculating distances...\")\n",
    "genuine_distances, impostor_distances = calculate_distances(test_dict)\n",
    "\n",
    "print(\"Calculating EER...\")\n",
    "eer, eer_threshold = calculate_eer(genuine_distances, impostor_distances)\n",
    "print(f\"Equal Error Rate (EER): {eer:.4f}\")\n",
    "print(f\"EER Threshold: {eer_threshold:.4f}\")\n",
    "\n",
    "# Calculate TPR at different distance thresholds\n",
    "distance_thresholds = [0.5]  # Example distance thresholds\n",
    "for threshold in distance_thresholds:\n",
    "    tpr, fpr = calculate_tpr_fpr(genuine_distances, impostor_distances, threshold)\n",
    "    print(f\"At threshold {threshold:.2f}:\")\n",
    "    print(f\"  TPR: {tpr:.4f}\")\n",
    "    print(f\"  FPR: {fpr:.4f}\")\n",
    "\n",
    "# Plot ROC curve\n",
    "thresholds = np.linspace(0, max(np.max(genuine_distances), np.max(impostor_distances)), 100)\n",
    "tpr_list = []\n",
    "fpr_list = []\n",
    "\n",
    "for threshold in thresholds:\n",
    "    tpr, fpr = calculate_tpr_fpr(genuine_distances, impostor_distances, threshold)\n",
    "    tpr_list.append(tpr)\n",
    "    fpr_list.append(fpr)\n",
    "\n",
    "plt.figure(figsize=(10, 10))\n",
    "plt.plot(fpr_list, tpr_list)\n",
    "plt.plot([0, 1], [0, 1], 'r--')\n",
    "plt.xlabel('False Positive Rate')\n",
    "plt.ylabel('True Positive Rate')\n",
    "plt.title('ROC Curve')\n",
    "plt.grid(True)\n",
    "plt.savefig('roc_curve.png')\n",
    "plt.close()\n"
   ]
  },
  {
   "cell_type": "code",
   "execution_count": 28,
   "id": "aa94ae2d-7e6e-4ec2-97fb-77e07cd3c27a",
   "metadata": {},
   "outputs": [
    {
     "data": {
      "text/plain": [
       "(11041, 3013529)"
      ]
     },
     "execution_count": 28,
     "metadata": {},
     "output_type": "execute_result"
    }
   ],
   "source": [
    "len(genuine_distances), len(impostor_distances)"
   ]
  },
  {
   "cell_type": "code",
   "execution_count": 29,
   "id": "086acaca-f73b-4c54-a54a-0ef5af64a102",
   "metadata": {},
   "outputs": [
    {
     "name": "stdout",
     "output_type": "stream",
     "text": [
      "Computing t-SNE projection...\n",
      "t-SNE visualization saved as 'embeddings_tsne.png'\n"
     ]
    },
    {
     "data": {
      "image/png": "[encoded data removed]",
      "text/plain": [
       "<Figure size 1000x800 with 1 Axes>"
      ]
     },
     "metadata": {},
     "output_type": "display_data"
    }
   ],
   "source": [
    "def visualize_embeddings(test_dict, num_persons=30):\n",
    "    # Collect embeddings and labels\n",
    "    embeddings = []\n",
    "    labels = []\n",
    "    \n",
    "    # Take first 30 persons\n",
    "    for i, (person_id, person_embeddings) in enumerate(test_dict.items()):\n",
    "        if i >= num_persons:\n",
    "            break\n",
    "        embeddings.extend(person_embeddings)\n",
    "        labels.extend([i] * len(person_embeddings))\n",
    "    \n",
    "    # Convert to numpy arrays\n",
    "    embeddings_np = torch.stack(embeddings).numpy()\n",
    "    \n",
    "    # Apply t-SNE\n",
    "    print(\"Computing t-SNE projection...\")\n",
    "    tsne = TSNE(n_components=2, random_state=42)\n",
    "    embeddings_tsne = tsne.fit_transform(embeddings_np)\n",
    "    \n",
    "    # Plot\n",
    "    plt.figure(figsize=(10, 8))\n",
    "    for i in range(num_persons):\n",
    "        indices = [j for j, label in enumerate(labels) if label == i]\n",
    "        plt.scatter(embeddings_tsne[indices, 0], embeddings_tsne[indices, 1], label=f\"Person {i+1}\", s=2)\n",
    "    \n",
    "    plt.title(\"t-SNE Visualization of Embeddings\")\n",
    "    plt.savefig(\"embeddings_tsne.png\")\n",
    "    print(\"t-SNE visualization saved as 'embeddings_tsne.png'\")\n",
    "\n",
    "# Uncomment to visualize embeddings\n",
    "visualize_embeddings(test_dict)"
   ]
  },
  {
   "cell_type": "code",
   "execution_count": null,
   "id": "1722fbff-4a8d-486f-8c3f-630683c4cb10",
   "metadata": {},
   "outputs": [],
   "source": []
  }
 ],
 "metadata": {
  "kernelspec": {
   "display_name": "Python 3 (ipykernel)",
   "language": "python",
   "name": "python3"
  },
  "language_info": {
   "codemirror_mode": {
    "name": "ipython",
    "version": 3
   },
   "file_extension": ".py",
   "mimetype": "text/x-python",
   "name": "python",
   "nbconvert_exporter": "python",
   "pygments_lexer": "ipython3",
   "version": "3.12.7"
  }
 },
 "nbformat": 4,
 "nbformat_minor": 5
}
